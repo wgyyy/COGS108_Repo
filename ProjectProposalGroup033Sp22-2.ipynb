{
 "cells": [
  {
   "cell_type": "markdown",
   "id": "a0a7036b",
   "metadata": {},
   "source": [
    "# COGS 108 - Final Project Proposal"
   ]
  },
  {
   "cell_type": "markdown",
   "id": "6564cefa",
   "metadata": {},
   "source": [
    "## Names:\n",
    "* Linwu Jun\n",
    "* Yifan Li\n",
    "* Zach Zhong\n",
    "* Yilian Liu\n",
    "* Gaoying Wang"
   ]
  },
  {
   "cell_type": "markdown",
   "id": "0fcf8f9f",
   "metadata": {},
   "source": [
    "## Research Questions\n",
    "\n",
    "Is there a relationship between precipitation and the Global Gender Gap Index in a country from 2009-2019? \n"
   ]
  },
  {
   "cell_type": "markdown",
   "id": "4ca5f20b",
   "metadata": {},
   "source": [
    "## Background and Prior Work\n",
    "\n",
    "A report from the World Economic Forum shows that only “3% of students joining information and communication technology courses across the globe are women.” Also, women account for 17.19% of workers in STEM-qualified industries and their salaries are 19% percent less than male workers in Australia. Since we were in the STEM background and we have seen similar news and reports so frequently, we would like to further analyze the factors that contributed to gender gap in the global working place. The Gender Gap Report by World Economic Forum benchmarks the evolution of gender-based gaps among four key dimensions (Economic Participation and Opportunity, Educational Attainment, Health and Survival, and Political Empowerment). The measure of Economic Participation include the labour force participation rates by gender,  ratio of estimated female-to-male earned income and wage equality for similar work. Educational Attainment captures the gap between women 's and men 's current access to education through ratios of women to men in primary-, secondary- and tertiary-level education. Health and Survival provides an overview based on sex ratio at birth and the gap between women 's and men 's healthy life expectancy. Political Empowerment measures the gap between men and women at the highest level of political decision-making through the ratio of women to men in minister-level positions and the ratio of women to men in parliamentary positions. \n",
    "\n",
    "Since Economic participation was usually represented by the country’s GDP and GDP per capita, we believe that GDP can be a driving force in the issues related to gender gap and it allowed us to explore the connection between each country’s economy and gender equality. \n",
    "In addition, the gender gap includes the gender wage gap, which is also highly correlated with the country’s GDP. In many countries with agriculture, the GDP is always closely related to the annual precipitation. If that country is experiencing either drought or excessive rainfall, the agriculture and the country’s GDP will be impacted severely. Besides the economic impact, natural disasters such as flood are also potential threats to most single mothers. Single mothers often rely on government welfare in order to live and raise children. If there is a flood caused by heavy rain that is severe enough to destroy their houses, it will further increase the gender inequality. Thus, we are curious about whether the change in precipitation will impact on gender equality.\n",
    "\n",
    "Since the World Economic Forum publishes the annual report through its official website, we could download the data from 2009 to 2019 there. We choose to analyze the data in this time frame because we would like to avoid the effect of pandemic as the confounding variables. This decade will allow us to explore the patterns and correlation between the economy and gender gap index so that we can find the factors that influence gender equality.  \n",
    "\n",
    "In addition, the gender gap includes the gender wage gap, which is also highly correlated with the country’s GDP. In many countries with agriculture, the GDP is always closely related to the annual precipitation. If that country is experiencing either drought or excessive rainfall, the agriculture and the country’s GDP will be impacted severely. Besides the economic impact, natural disasters such as flood are also potential threats to most single mothers. Single mothers often rely on government welfare in order to live and raise children. If there is a flood caused by heavy rain that is severe enough to destroy their houses, it will further increase the gender inequality. Thus, we are curious about whether the change in precipitation will impact on gender equality.\n",
    "Since the World Economic Forum publishes the annual report through its official website, we could download the data from 2009 to 2019 there. We choose to analyze the data in this time frame because we would like to avoid the effect of pandemic as the confounding variables. This decade will allow us to explore the patterns and correlation between the economy and gender gap index so that we can find the factors that influence gender equality.  \n",
    "\n",
    "\n",
    "\n",
    "\n"
   ]
  },
  {
   "cell_type": "markdown",
   "id": "8c020ad5",
   "metadata": {},
   "source": [
    "## Reference\n",
    "\n",
    "* Format & Structure:\n",
    "  https://github.com/COGS108/FinalProjects-Wi20/blob/master/FinalProject_group019.ipynb\n",
    "\n",
    "* “Global Gender Gap Report 2021”. March 2021. Accessed by Apr 20, 2022. [Link](https://www3.weforum.org/docs/WEF_GGGR_2021.pdf)\n",
    "\n",
    "* “Explore Australia's data on women in STEM”. Australia Government, Department of Industry, Science, Energy and Resources. [Link](https://www.industry.gov.au/data-and-publications/stem-equity-monitor)\n",
    "* Johnny Wood, “3 things to know about women in STEM”. Journal of World Economic Forum. [Link](https://www.weforum.org/agenda/2020/02/stem-gender-inequality-researchers-bias/)\n",
    "* Damania, Richard; Desbureaux, Sebastien; Zaveri, Esha. 2019. Does Rainfall Matter for Economic Growth? Evidence from Global Sub-National Data (1990-2014). Policy Research Working Paper;No. 8888. World Bank, Washington, DC. © World Bank. \n",
    "* License: CC BY 3.0 IGO. [Link](https://openknowledge.worldbank.org/handle/10986/31901)\n",
    "* 2022, 28 F. (2022, February 28). Explainer: How gender inequality and climate change are interconnected. UN Women – Headquarters. Retrieved April 21, 2022, from [Link](https://www.unwomen.org/en/news-stories/explainer/2022/02/explainer-how-gender-inequality-and-climate-change-are-interconnected) \n",
    "\n",
    "\n"
   ]
  },
  {
   "cell_type": "markdown",
   "id": "7e99516d",
   "metadata": {},
   "source": [
    "## Hypothesis \n",
    "Our hypothesis is there is a correlation between a country's annual precipitation and Global Gender Gap index from 2009 to 2019.\n",
    "\n",
    "Null Hypothesis: The country’s annual precipitation has no association with the Global Gender Gap index, any association is due to random chance.\n",
    "\n",
    "Alternative Hypothesis: Countries that have a higher annual precipitation will have a lower Global Gender Gap index in the following year. Countries that have a lower annual precipitation will have a higher Global Gender Gap index in the following year. \n",
    "\n",
    "The test significance is 5%.\n",
    "\n"
   ]
  },
  {
   "cell_type": "markdown",
   "id": "6a341e03",
   "metadata": {},
   "source": [
    "## Data\n",
    "\n",
    "Ideal Dataset Describtion:\n",
    "We will combine and use multiple datasets for future analysis. Each datasets are stored as csv file for import. The analysis would be mainly focused on variables region (String object), precipitation (float), gdp (float), gender_index (int), gender_subindex (int) and related aggregated fields. We plan to have over 10,000 observations in our raw dataframe and around 500 in the grouped-by-country dataframe. In the grouped dataframe, each observation corresponds to each country over 2009-2019.\n",
    "\n",
    "\n",
    "\n",
    "1. Global Gender Index\n",
    "https://tcdata360.worldbank.org/indicators/af52ebe9?country=BRA&indicator=27962&viz=line_chart&years=2006,2021\n",
    "\n",
    "2. World GDP 2021 \n",
    "https://data.worldbank.org/indicator/NY.GDP.MKTP.CD\n",
    "\n",
    "3. Subindex: \n",
    "https://tcdata360.worldbank.org/indicators/846d20f8?country=BRA&indicator=27960&viz=line_chart&years=2006,2021\n",
    "\n",
    "4. Precipitation\n",
    "https://climateknowledgeportal.worldbank.org/download-data\n"
   ]
  },
  {
   "cell_type": "markdown",
   "id": "ff0de436",
   "metadata": {},
   "source": [
    "## Ethics and Privacy \n",
    "All the datasets we use are publicly available online and permission-free. Since all the datasets do not contain any identifiable personal information and we would be focused on analyzing worldwide data instead of individuals, there should be no privacy concerns. However, there are still some possible unintended uses of the data: At the same time, before we scrape these data, we have carefully read the relative terms and conditions of these websites and these datasets are free for the public to use.\n",
    " \n",
    "Moreover, we are not directly using the whole articles and only scraping these datasets which are allowed us to use and analyze. So that these articles and authors will not be saved in the process. We will protect their privacy.  Any information which is not allowed will not appear in our report\n",
    "\n",
    "\n",
    "In order to ensure the authenticity of these datasets and not have any potential biases in process of the analysis, we choose to search a lot of datasets from famous authoritative and credible, reliable websites. During the collection of website data, our research topic is related to GDP and gender. So that we give priority to the selection of substantial and accurate government reports. Of course, for reducing unnecessary issues, we also looked at articles related to opposing and critical government reports.\n"
   ]
  },
  {
   "cell_type": "markdown",
   "id": "e16bda30",
   "metadata": {},
   "source": [
    "## Team Expectation\n",
    "1. Everyone is to show up to the weekly meeting on time, unless there is a proper excuse\n",
    "2. Show positive attitude\n",
    "3. Consistent communication with everyone when one faces any issue with tasks they have been given\n"
   ]
  },
  {
   "cell_type": "markdown",
   "id": "21acc046",
   "metadata": {},
   "source": [
    "## Project Time Proposal\n",
    "* 4/20 : Meeting to discuss research questions/expectations/ set up timeline\n",
    "* 4/27:  Discuss data wrangling approach assign tasks and roles\n",
    "* 5/4: Continue to work and finalize data cleaning\n",
    "* 5/6 data due\n",
    "* 5/11: Discuss data analysis approach and assign tasks and roles\n",
    "* 5/18: Continue to work and finalize data analysis\n",
    "* 5/20 EDA due\n",
    "* 6/2: Finalize project and complete conclusion\n",
    "* 6/6 project due\n",
    "\n",
    "\n"
   ]
  }
 ],
 "metadata": {
  "kernelspec": {
   "display_name": "Python 3 (clean)",
   "language": "python",
   "name": "python3_clean"
  },
  "language_info": {
   "codemirror_mode": {
    "name": "ipython",
    "version": 3
   },
   "file_extension": ".py",
   "mimetype": "text/x-python",
   "name": "python",
   "nbconvert_exporter": "python",
   "pygments_lexer": "ipython3",
   "version": "3.9.5"
  }
 },
 "nbformat": 4,
 "nbformat_minor": 5
}
